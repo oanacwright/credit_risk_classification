# Import the modules
import numpy as np
import pandas as pd
from pathlib import Path
from sklearn.metrics import confusion_matrix, classification_report











# Read the CSV file from the Resources folder into a Pandas DataFrame
loan_df = pd.read_csv(Path('Resources/lending_data.csv'))

# Review the DataFrame
loan_df.head()





# Separate the data into labels and features

# Separate the y variable, the labels
y = loan_df['loan_status']

# Separate the X variable, the features
X = loan_df.drop(columns='loan_status')


# Review the y variable Series
y.head()


# Review the X variable DataFrame
X.head()





# Import the train_test_learn module
from sklearn.model_selection import train_test_split

# Split the data using train_test_split
# Assign a random_state of 1 to the function
X_Train, X_Test, y_Train, y_Test = train_test_split(X, y, random_state=1)











# Import the LogisticRegression module from SKLearn
from sklearn.linear_model import LogisticRegression

# Instantiate the Logistic Regression model
# Assign a random_state parameter of 1 to the model
model = LogisticRegression(solver='lbfgs', random_state=1)


# Fit the model using training data
model = model.fit(X_Train, y_Train)

# Validating the model using score.
print(f"Training Data Score: {model.score(X_Train, y_Train)}")
print(f"Testing Data Score: {model.score(X_Test, y_Test)}")





# Make a prediction using the testing data
loan_prediction = model.predict(X_Test)
pd.DataFrame({"Prediction": loan_prediction, "Actual": y_Test}).reset_index(drop=True)





# Generate a confusion matrix for the model
c_matrix = confusion_matrix(y_Test, loan_prediction)
print(c_matrix)


# Print the classification report for the model
loan_test_report = classification_report(y_Test, loan_prediction)
print(loan_test_report)









